{
 "cells": [
  {
   "cell_type": "code",
   "execution_count": 151,
   "id": "0faab6e9",
   "metadata": {},
   "outputs": [
    {
     "name": "stdout",
     "output_type": "stream",
     "text": [
      "<class 'pandas.core.frame.DataFrame'>\n",
      "epochs and learning rate  100000 1e-05\n",
      "final weights  [[-0.08261463]\n",
      " [-0.11237918]\n",
      " [-0.11763179]\n",
      " [-0.09640783]\n",
      " [-0.06733071]\n",
      " [-0.11673598]\n",
      " [-0.09367983]\n",
      " [-0.11178552]]\n",
      "wo  -3.388337407082282\n",
      "Calculations done on validation data\n",
      "Accuracy is  72.58064516129032  %\n",
      "Calculations done on testing data\n",
      "Accuracy is  67.88617886178862  %\n"
     ]
    },
    {
     "data": {
      "text/plain": [
       "[<matplotlib.lines.Line2D at 0x2dbf32205b0>]"
      ]
     },
     "execution_count": 151,
     "metadata": {},
     "output_type": "execute_result"
    },
    {
     "data": {
      "image/png": "[encoded data removed]",
      "text/plain": [
       "<Figure size 432x288 with 1 Axes>"
      ]
     },
     "metadata": {
      "needs_background": "light"
     },
     "output_type": "display_data"
    }
   ],
   "source": [
    "import numpy as np\n",
    "import pandas as pd\n",
    "from sklearn.model_selection import train_test_split\n",
    "import matplotlib.pyplot as plt \n",
    "from sklearn import preprocessing\n",
    "\n",
    "#reading the dataset\n",
    "preData = pd.read_csv(\"diabetes.csv\")\n",
    "print(type(preData))\n",
    "preData.head()\n",
    "#print(preData)\n",
    "data = preprocessing.normalize(preData, axis=0)\n",
    "data = pd.DataFrame(data, columns=preData.columns)\n",
    "#print(data.head())\n",
    "features = np.asmatrix(data[['Pregnancies','Glucose','BloodPressure','SkinThickness','Insulin','BMI','DiabetesPedigreeFunction','Age']])\n",
    "target = np.asmatrix(data['Outcome']).T\n",
    "#splitting the dataset into training(60%), validation(20%) and testing(rest) using sklearn\n",
    "#first splitting dataset into 2 sets, 1 is training i.e 60% and the 2nd one is temp dataset which is 40%\n",
    "X_training, X_temp, Y_training, Y_temp = train_test_split(features,target, test_size=0.40)\n",
    "#again splitting the temp data into 2 portions, 1 is validation(20$) and rest for testing\n",
    "X_testing,X_validation,Y_testing,Y_validation = train_test_split(X_temp, Y_temp, test_size=0.20)\n",
    "#creating the weight matrix\n",
    "w = np.asmatrix([0,0,0,0,0,0,0,0]).T\n",
    "n = 8\n",
    "epochs =100000\n",
    "learningRate = 0.00001\n",
    "#setting the bias w0 as 0 initially\n",
    "w0 = 0\n",
    "lossFunction= [] \n",
    "for iteration in range(epochs):\n",
    "    #predicting the outcome\n",
    "    Y_predicted = 1/(1+ np.exp(-w0-np.dot(X_training,w)))\n",
    "    #generating the gradient desc\n",
    "    gradient_desc = np.dot(X_training.T,(Y_predicted-Y_training))\n",
    "    #updating bias and weights using gradient descent\n",
    "    w0 = w0 - learningRate*(np.sum(Y_predicted - Y_training)/n)\n",
    "    w = w - learningRate * gradient_desc/n\n",
    "    cost = -np.sum(np.multiply(np.log(Y_predicted), Y_training) + np.multiply((1 - Y_training), np.log(1 - Y_predicted)))/n\n",
    "    lossFunction.append(np.squeeze(cost)) \n",
    "print(\"epochs and learning rate \",epochs,learningRate)\n",
    "print(\"final weights \",w)\n",
    "print(\"wo \",w0)\n",
    "#normalizing the validation dataset\n",
    "X_validation_norm = X_validation - X_validation.mean()\n",
    "#predicting the outcome using validation dataset with the weights found using training dataset\n",
    "Y_predicted = 1/(1+ np.exp(-w0-np.dot(X_validation_norm,w)))\n",
    "#converting the predicted outcome probabilities into binary form\n",
    "predictedTest = [1 if p>=0.5 else 0 for p in Y_predicted]\n",
    "print(\"Calculations done on validation data\")\n",
    "properly_Predicted = 0\n",
    "#calculating the accuray using validation dataset\n",
    "for i in range(len(Y_validation)):\n",
    "    if(predictedTest[i]==Y_validation[i][0]):\n",
    "        properly_Predicted = properly_Predicted+1\n",
    "\n",
    "accuracy = properly_Predicted/len(Y_validation)\n",
    "print(\"Accuracy is \",accuracy*100,\" %\")\n",
    "X_testing_norm = X_testing - X_testing.mean()\n",
    "#predicting the outcome using testing dataset with the weights found using training dataset\n",
    "Y_predicted = 1/(1+ np.exp(-w0-np.dot(X_testing_norm,w)))\n",
    "#converting the predicted outcome probabilities into binary form\n",
    "predictedTest = [1 if p>=0.5 else 0 for p in Y_predicted]\n",
    "print(\"Calculations done on testing data\")\n",
    "properly_Predicted = 0\n",
    "#calculating the accuray using testing dataset\n",
    "for i in range(len(Y_testing)):\n",
    "    if(predictedTest[i]==Y_testing[i][0]):\n",
    "        properly_Predicted = properly_Predicted+1\n",
    "\n",
    "accuracy = properly_Predicted/len(Y_testing)\n",
    "print(\"Accuracy is \",accuracy*100,\" %\")\n",
    "plt.plot(lossFunction)"
   ]
  },
  {
   "cell_type": "code",
   "execution_count": null,
   "id": "fa7973e3",
   "metadata": {},
   "outputs": [],
   "source": []
  },
  {
   "cell_type": "code",
   "execution_count": null,
   "id": "63d0bc4a",
   "metadata": {},
   "outputs": [],
   "source": []
  }
 ],
 "metadata": {
  "kernelspec": {
   "display_name": "Python 3 (ipykernel)",
   "language": "python",
   "name": "python3"
  },
  "language_info": {
   "codemirror_mode": {
    "name": "ipython",
    "version": 3
   },
   "file_extension": ".py",
   "mimetype": "text/x-python",
   "name": "python",
   "nbconvert_exporter": "python",
   "pygments_lexer": "ipython3",
   "version": "3.9.7"
  }
 },
 "nbformat": 4,
 "nbformat_minor": 5
}
